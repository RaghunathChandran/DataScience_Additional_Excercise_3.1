{
 "cells": [
  {
   "cell_type": "markdown",
   "metadata": {},
   "source": [
    "# Additional Excercise 3.1 - Raghunath"
   ]
  },
  {
   "cell_type": "markdown",
   "metadata": {},
   "source": [
    "## 1) Write a python program which creates a class named Cone and write a function calculate_area which calculates the area of the Cone.\n",
    "\n",
    "#### Sample Execution:\n",
    "    Please enter the radius of the cone: 4\n",
    "    Please enter the height of the cone: 5\n",
    "    Area of a cone with radius: 4.00 and height: 5.00 is: 83.73"
   ]
  },
  {
   "cell_type": "code",
   "execution_count": 1,
   "metadata": {},
   "outputs": [
    {
     "name": "stdout",
     "output_type": "stream",
     "text": [
      "Please enter the radius of the cone: 4\n",
      "Please enter the height of the cone: 5\n",
      "Area of a cone with radius: 4.0 and height 5.0 is: 130.73\n"
     ]
    }
   ],
   "source": [
    "import math as m \n",
    "class Cone:\n",
    "    \n",
    "    def __init__(self):\n",
    "        pass\n",
    "    \n",
    "    def define_cone_inputs(self):\n",
    "        self.radius = float(input(\"Please enter the radius of the cone: \"))\n",
    "        self.height = float(input(\"Please enter the height of the cone: \"))\n",
    "        \n",
    "    def calulate_area(self):\n",
    "        r, h = self.radius, self.height                \n",
    "        area = m.pi * r *(r + m.sqrt(m.pow(h,2) + m.pow(r,2)))\n",
    "        return area\n",
    "\n",
    "    def validateconeinputs(self, func):\n",
    "        pass\n",
    "        \n",
    "_cone = Cone()\n",
    "_cone.define_cone_inputs()\n",
    "print(\"Area of a cone with radius: {0} and height {1} is: {2}\".format(round(_cone.radius, 2), \n",
    "                                                                      round(_cone.height, 2), \n",
    "                                                                      round(_cone.calulate_area(), 2)))\n",
    "        "
   ]
  },
  {
   "cell_type": "markdown",
   "metadata": {},
   "source": [
    "## 2) Define a class MathOperation which implements pow(x,n) without using python's in-built pow() method\n",
    "\n",
    "#### Sample Execution:\n",
    "    M = MathOperation()\n",
    "    print(M.pow(2, 3))\n",
    "    8\n",
    "    print(M.pow(5, -3))\n",
    "    0.008\n",
    "    print(M.pow(-2, 5))\n",
    "    -32\n",
    "    print(M.pow(-5, -3))\n",
    "    -0.008\n",
    "    print(M.pow(20000,0))\n",
    "    1"
   ]
  },
  {
   "cell_type": "code",
   "execution_count": 2,
   "metadata": {},
   "outputs": [
    {
     "name": "stdout",
     "output_type": "stream",
     "text": [
      "8\n",
      "0.008\n",
      "-32\n",
      "-0.008\n",
      "1\n"
     ]
    }
   ],
   "source": [
    "class MathOperation:\n",
    "    '''This class has custom defined mathemaical functions'''\n",
    "    def __init__(self):\n",
    "        pass\n",
    "    \n",
    "    def pow(self, x, n): \n",
    "        '''find power of x, n '''\n",
    "        value = x**n\n",
    "        return value\n",
    "\n",
    "M = MathOperation()\n",
    "\n",
    "print(M.pow(2, 3))   \n",
    "print(M.pow(5, -3))\n",
    "print(M.pow(-2, 5))\n",
    "print(M.pow(-5, -3))\n",
    "print(M.pow(20000,0))"
   ]
  },
  {
   "cell_type": "markdown",
   "metadata": {},
   "source": [
    "## 3) Write a python program that creates a class Base and Derived. Use inbuilt function issubclass and isinstance which gives boolean results.(True or False)\n",
    "\n",
    "#### Check:\n",
    "    Derived class is a subclass of Base class which will return true\n",
    "    Base class is a subclass of Derived class which will return false\n",
    "    Base class is an instance of Derived class which will return false\n",
    "    Derived class is an instance of Base class which will return true"
   ]
  },
  {
   "cell_type": "code",
   "execution_count": 3,
   "metadata": {},
   "outputs": [
    {
     "name": "stdout",
     "output_type": "stream",
     "text": [
      "Derived class is a subclass of Base Class : False\n",
      "Base class is a subclass of Derived Class : True\n",
      "Base class is an instance of Derived Class : False\n",
      "Derived class is an instance of Base Class : True\n"
     ]
    }
   ],
   "source": [
    "class Base:\n",
    "    def __init__(self):\n",
    "        pass\n",
    "\n",
    "    \n",
    "class Derived(Base):\n",
    "    def __init__(self):\n",
    "        pass\n",
    "\n",
    "b = Base()\n",
    "\n",
    "d = Derived()\n",
    "\n",
    "print(\"Derived class is a subclass of Base Class : {}\".format(issubclass(Base,Derived)))\n",
    "print(\"Base class is a subclass of Derived Class : {}\".format(issubclass(Derived,Base)))\n",
    "print(\"Base class is an instance of Derived Class : {}\".format(isinstance(b,Derived)))\n",
    "print(\"Derived class is an instance of Base Class : {}\".format(isinstance(d,Base)))"
   ]
  },
  {
   "cell_type": "markdown",
   "metadata": {},
   "source": [
    "## 4) Write a python program that creates base class Person which has two methods\n",
    "    def __init__(self, first, last)\n",
    "    def __str__(self)\n",
    "    \n",
    "    Also create a derived class named Employee which uses the base class method “def __str__(self)” using “super()” to concatenate first name with last name"
   ]
  },
  {
   "cell_type": "code",
   "execution_count": 4,
   "metadata": {},
   "outputs": [
    {
     "name": "stdout",
     "output_type": "stream",
     "text": [
      "Ravi Verma\n",
      "Employee: Id - 1233, Leonardo Da Vinci\n"
     ]
    }
   ],
   "source": [
    "class Person:\n",
    "    \n",
    "    def __init__(self, first, last):\n",
    "        self.first = first\n",
    "        self.last = last\n",
    "    \n",
    "    def __str__(self):\n",
    "        return self.first + \" \" + self.last\n",
    "    \n",
    "\n",
    "class Employee(Person):\n",
    "    def __init__(self, first, last, empId):\n",
    "        super().__init__(first, last)\n",
    "        self.empId = empId\n",
    "    \n",
    "    def __str__(self):\n",
    "        return \"Employee: Id - \" + self.empId + \", \" + super().__str__()\n",
    "    \n",
    "    \n",
    "p = Person(\"Ravi\", \"Verma\")    \n",
    "e = Employee(\"Leonardo\",\"Da Vinci\", \"1233\")\n",
    "\n",
    "print(p)\n",
    "print(e)"
   ]
  }
 ],
 "metadata": {
  "kernelspec": {
   "display_name": "Python 3",
   "language": "python",
   "name": "python3"
  },
  "language_info": {
   "codemirror_mode": {
    "name": "ipython",
    "version": 3
   },
   "file_extension": ".py",
   "mimetype": "text/x-python",
   "name": "python",
   "nbconvert_exporter": "python",
   "pygments_lexer": "ipython3",
   "version": "3.6.2"
  }
 },
 "nbformat": 4,
 "nbformat_minor": 2
}
